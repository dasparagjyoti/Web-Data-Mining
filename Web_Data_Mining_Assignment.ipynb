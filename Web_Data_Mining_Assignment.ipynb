{
  "nbformat": 4,
  "nbformat_minor": 0,
  "metadata": {
    "colab": {
      "name": "Web_Data_Mining_Assignment.ipynb",
      "provenance": [],
      "include_colab_link": true
    },
    "kernelspec": {
      "name": "python3",
      "display_name": "Python 3"
    },
    "language_info": {
      "name": "python"
    }
  },
  "cells": [
    {
      "cell_type": "markdown",
      "metadata": {
        "id": "view-in-github",
        "colab_type": "text"
      },
      "source": [
        "<a href=\"https://colab.research.google.com/github/dasparagjyoti/Web-Data-Mining/blob/main/Web_Data_Mining_Assignment.ipynb\" target=\"_parent\"><img src=\"https://colab.research.google.com/assets/colab-badge.svg\" alt=\"Open In Colab\"/></a>"
      ]
    },
    {
      "cell_type": "markdown",
      "source": [
        "#**Web Data Mining (CS684) | Programming Assignment |**"
      ],
      "metadata": {
        "id": "X9VNPFPg7cuq"
      }
    },
    {
      "cell_type": "markdown",
      "source": [
        "### 1. Write a program that takes an initial webpage url as an input and a number. It then finds all out links of the webpage and traverses the links in breadth first traversal till the shortest distance between a webpage and the initial webpage is within the given number. It outputs website url, heading and parent url in an excel file. There should be no repetition. A webpage should be occurring only once in the output. [10]"
      ],
      "metadata": {
        "id": "o_Fi8vsM7xLX"
      }
    },
    {
      "cell_type": "code",
      "source": [
        "#Perform all necesary installation\n",
        "!pip install fsspec"
      ],
      "metadata": {
        "colab": {
          "base_uri": "https://localhost:8080/"
        },
        "id": "3FTB07anDudE",
        "outputId": "09180b03-8917-44bd-d9d3-4f46859e926e"
      },
      "execution_count": 8,
      "outputs": [
        {
          "output_type": "stream",
          "name": "stdout",
          "text": [
            "Collecting fsspec\n",
            "  Downloading fsspec-2022.3.0-py3-none-any.whl (136 kB)\n",
            "\u001b[?25l\r\u001b[K     |██▍                             | 10 kB 23.8 MB/s eta 0:00:01\r\u001b[K     |████▉                           | 20 kB 17.4 MB/s eta 0:00:01\r\u001b[K     |███████▎                        | 30 kB 11.6 MB/s eta 0:00:01\r\u001b[K     |█████████▋                      | 40 kB 4.7 MB/s eta 0:00:01\r\u001b[K     |████████████                    | 51 kB 4.2 MB/s eta 0:00:01\r\u001b[K     |██████████████▌                 | 61 kB 5.0 MB/s eta 0:00:01\r\u001b[K     |████████████████▉               | 71 kB 5.8 MB/s eta 0:00:01\r\u001b[K     |███████████████████▎            | 81 kB 5.6 MB/s eta 0:00:01\r\u001b[K     |█████████████████████▊          | 92 kB 6.2 MB/s eta 0:00:01\r\u001b[K     |████████████████████████        | 102 kB 5.2 MB/s eta 0:00:01\r\u001b[K     |██████████████████████████▌     | 112 kB 5.2 MB/s eta 0:00:01\r\u001b[K     |█████████████████████████████   | 122 kB 5.2 MB/s eta 0:00:01\r\u001b[K     |███████████████████████████████▎| 133 kB 5.2 MB/s eta 0:00:01\r\u001b[K     |████████████████████████████████| 136 kB 5.2 MB/s \n",
            "\u001b[?25hInstalling collected packages: fsspec\n",
            "Successfully installed fsspec-2022.3.0\n"
          ]
        }
      ]
    },
    {
      "cell_type": "code",
      "source": [
        "# Import all necessary libraries\n",
        "from urllib.request import urlopen, Request\n",
        "from bs4 import BeautifulSoup\n",
        "import pandas as pd\n",
        "import re"
      ],
      "metadata": {
        "id": "JrBqwAD5AKn6"
      },
      "execution_count": 9,
      "outputs": []
    },
    {
      "cell_type": "code",
      "source": [
        "# Function to take url as an input from the user\n",
        "def input_url(message = ''):\n",
        "  while True:\n",
        "    url = input(message)\n",
        "    if url.startswith('http://') or url.startswith('https://'):\n",
        "      return url\n",
        "    else:\n",
        "      print('Invalid url. Please enter the url again!\\n')"
      ],
      "metadata": {
        "id": "No3PzUHaik5c"
      },
      "execution_count": 11,
      "outputs": []
    },
    {
      "cell_type": "code",
      "source": [
        "# Function to return heading of a webpage, given its url\n",
        "def get_heading(url):\n",
        "  try:\n",
        "    html = urlopen(Request(url, headers={'User-Agent':'Mozilla'}))\n",
        "    bs = BeautifulSoup(html, 'html.parser')\n",
        "    heading = bs.find('title').get_text()\n",
        "  except:\n",
        "    heading = ''\n",
        "  return heading"
      ],
      "metadata": {
        "id": "vzKVw_CqKAH2"
      },
      "execution_count": 14,
      "outputs": []
    },
    {
      "cell_type": "code",
      "source": [
        "# Function to return web crawl information of a single level\n",
        "def crawl_single_level(curr_url, curr_level):\n",
        "  m = re.search('https?:\\/\\/[\\w]+\\.([A-Za-z_0-9.-]+).*', curr_url)\n",
        "  parent_domain =  m.group(1) if m else ''\n",
        "  total_links_found = 0\n",
        "  links = []\n",
        "  headings = []\n",
        "  \n",
        "  try:\n",
        "    html = urlopen(curr_url)\n",
        "    bs = BeautifulSoup(html, 'html.parser')\n",
        "    for link in bs.find_all('a'):\n",
        "      if 'href' in link.attrs and link.attrs['href'].startswith('http'):\n",
        "        if re.search('https?:\\/\\/[\\w]+\\.([A-Za-z_0-9.-]+).*', link.attrs['href']).group(1) != parent_domain:\n",
        "          links.append(link.attrs['href'])\n",
        "          heading = get_heading(link.attrs['href'])\n",
        "          headings.append(heading)\n",
        "  except:\n",
        "    pass\n",
        "\n",
        "  total_links_found = len(links)\n",
        "  parent_url = curr_url\n",
        "\n",
        "  return curr_level+1, parent_url, total_links_found, links, headings"
      ],
      "metadata": {
        "id": "w8SjUL42New3"
      },
      "execution_count": 15,
      "outputs": []
    },
    {
      "cell_type": "code",
      "execution_count": 16,
      "metadata": {
        "id": "p8c15ZZ07Pbi"
      },
      "outputs": [],
      "source": [
        "# Crawl webpages via breadth first traversal\n",
        "def web_crawl(initial_url, level):\n",
        "  # Current index of link being crawled\n",
        "  current_index = 0\n",
        "\n",
        "  # Lists to store the crawled information\n",
        "  level_list = []\n",
        "  url_list = []\n",
        "  parent_url_list = []\n",
        "  heading_list = []\n",
        "\n",
        "  # Initialize root node\n",
        "  level_list.append(0)\n",
        "  url_list.append(initial_url)\n",
        "  parent_url_list.append('')\n",
        "  heading_list.append(get_heading(initial_url))\n",
        "\n",
        "  # Start crawling level by level\n",
        "  if level > 0:\n",
        "    while current_index < len(level_list):\n",
        "      if level_list[current_index] >= level:\n",
        "        break\n",
        "\n",
        "      curr_level, parent_url, total_links_found, links, headings = crawl_single_level(curr_url = url_list[current_index], curr_level = level_list[current_index])\n",
        "      \n",
        "      for i in range(total_links_found):\n",
        "        level_list.append(curr_level)\n",
        "        url_list.append(links[i])\n",
        "        parent_url_list.append(parent_url)\n",
        "        heading_list.append(headings[i])\n",
        "\n",
        "      current_index += 1\n",
        "\n",
        "  # Create Pandas dataframe out of the lists\n",
        "  dictn = {'level': level_list, 'url': url_list, 'parent_url': parent_url_list, 'heading': heading_list}\n",
        "  df = pd.DataFrame(dictn)\n",
        "\n",
        "  # Remove duplicate url containing rows\n",
        "  df.drop_duplicates(subset=['url'], inplace=True)\n",
        "\n",
        "  # Reset index of the DataFrame\n",
        "  df = df.reset_index(drop=True)\n",
        "\n",
        "  return df"
      ]
    },
    {
      "cell_type": "code",
      "source": [
        "# Take user input and call the web_crawl function\n",
        "url = input_url('Enter a url (E.g. https://www.geeksforgeeks.org/): ')\n",
        "crawl_level = int(input('Choose a number (above 0): '))\n",
        "df = web_crawl(initial_url = url, level = crawl_level)"
      ],
      "metadata": {
        "id": "DVTW2llaBFla",
        "colab": {
          "base_uri": "https://localhost:8080/"
        },
        "outputId": "e33c749a-d91b-416d-dc8c-169323def975"
      },
      "execution_count": 17,
      "outputs": [
        {
          "name": "stdout",
          "output_type": "stream",
          "text": [
            "Enter a url (E.g. https://www.geeksforgeeks.org/): https://www.w3schools.com/\n",
            "Choose a number (above 0): 30\n"
          ]
        }
      ]
    },
    {
      "cell_type": "code",
      "source": [
        "df"
      ],
      "metadata": {
        "colab": {
          "base_uri": "https://localhost:8080/",
          "height": 206
        },
        "id": "WLWsiol5HK2a",
        "outputId": "e4f183e6-6cdf-4e20-c2d9-f497bad3007f"
      },
      "execution_count": 18,
      "outputs": [
        {
          "output_type": "execute_result",
          "data": {
            "text/plain": [
              "   level                                                url  \\\n",
              "0      0                         https://www.w3schools.com/   \n",
              "1      1                      https://discord.gg/6Z7UaRbUQM   \n",
              "2      1    https://www.linkedin.com/company/w3schools.com/   \n",
              "3      1  https://www.instagram.com/w3schools.com_official/   \n",
              "4      1             https://www.facebook.com/w3schoolscom/   \n",
              "\n",
              "                   parent_url                         heading  \n",
              "0                              W3Schools Online Web Tutorials  \n",
              "1  https://www.w3schools.com/                       w3schools  \n",
              "2  https://www.w3schools.com/                                  \n",
              "3  https://www.w3schools.com/           \\nLogin • Instagram\\n  \n",
              "4  https://www.w3schools.com/              w3schools.com - 首页  "
            ],
            "text/html": [
              "\n",
              "  <div id=\"df-931ab90b-e346-4de0-9597-9c70167187fd\">\n",
              "    <div class=\"colab-df-container\">\n",
              "      <div>\n",
              "<style scoped>\n",
              "    .dataframe tbody tr th:only-of-type {\n",
              "        vertical-align: middle;\n",
              "    }\n",
              "\n",
              "    .dataframe tbody tr th {\n",
              "        vertical-align: top;\n",
              "    }\n",
              "\n",
              "    .dataframe thead th {\n",
              "        text-align: right;\n",
              "    }\n",
              "</style>\n",
              "<table border=\"1\" class=\"dataframe\">\n",
              "  <thead>\n",
              "    <tr style=\"text-align: right;\">\n",
              "      <th></th>\n",
              "      <th>level</th>\n",
              "      <th>url</th>\n",
              "      <th>parent_url</th>\n",
              "      <th>heading</th>\n",
              "    </tr>\n",
              "  </thead>\n",
              "  <tbody>\n",
              "    <tr>\n",
              "      <th>0</th>\n",
              "      <td>0</td>\n",
              "      <td>https://www.w3schools.com/</td>\n",
              "      <td></td>\n",
              "      <td>W3Schools Online Web Tutorials</td>\n",
              "    </tr>\n",
              "    <tr>\n",
              "      <th>1</th>\n",
              "      <td>1</td>\n",
              "      <td>https://discord.gg/6Z7UaRbUQM</td>\n",
              "      <td>https://www.w3schools.com/</td>\n",
              "      <td>w3schools</td>\n",
              "    </tr>\n",
              "    <tr>\n",
              "      <th>2</th>\n",
              "      <td>1</td>\n",
              "      <td>https://www.linkedin.com/company/w3schools.com/</td>\n",
              "      <td>https://www.w3schools.com/</td>\n",
              "      <td></td>\n",
              "    </tr>\n",
              "    <tr>\n",
              "      <th>3</th>\n",
              "      <td>1</td>\n",
              "      <td>https://www.instagram.com/w3schools.com_official/</td>\n",
              "      <td>https://www.w3schools.com/</td>\n",
              "      <td>\\nLogin • Instagram\\n</td>\n",
              "    </tr>\n",
              "    <tr>\n",
              "      <th>4</th>\n",
              "      <td>1</td>\n",
              "      <td>https://www.facebook.com/w3schoolscom/</td>\n",
              "      <td>https://www.w3schools.com/</td>\n",
              "      <td>w3schools.com - 首页</td>\n",
              "    </tr>\n",
              "  </tbody>\n",
              "</table>\n",
              "</div>\n",
              "      <button class=\"colab-df-convert\" onclick=\"convertToInteractive('df-931ab90b-e346-4de0-9597-9c70167187fd')\"\n",
              "              title=\"Convert this dataframe to an interactive table.\"\n",
              "              style=\"display:none;\">\n",
              "        \n",
              "  <svg xmlns=\"http://www.w3.org/2000/svg\" height=\"24px\"viewBox=\"0 0 24 24\"\n",
              "       width=\"24px\">\n",
              "    <path d=\"M0 0h24v24H0V0z\" fill=\"none\"/>\n",
              "    <path d=\"M18.56 5.44l.94 2.06.94-2.06 2.06-.94-2.06-.94-.94-2.06-.94 2.06-2.06.94zm-11 1L8.5 8.5l.94-2.06 2.06-.94-2.06-.94L8.5 2.5l-.94 2.06-2.06.94zm10 10l.94 2.06.94-2.06 2.06-.94-2.06-.94-.94-2.06-.94 2.06-2.06.94z\"/><path d=\"M17.41 7.96l-1.37-1.37c-.4-.4-.92-.59-1.43-.59-.52 0-1.04.2-1.43.59L10.3 9.45l-7.72 7.72c-.78.78-.78 2.05 0 2.83L4 21.41c.39.39.9.59 1.41.59.51 0 1.02-.2 1.41-.59l7.78-7.78 2.81-2.81c.8-.78.8-2.07 0-2.86zM5.41 20L4 18.59l7.72-7.72 1.47 1.35L5.41 20z\"/>\n",
              "  </svg>\n",
              "      </button>\n",
              "      \n",
              "  <style>\n",
              "    .colab-df-container {\n",
              "      display:flex;\n",
              "      flex-wrap:wrap;\n",
              "      gap: 12px;\n",
              "    }\n",
              "\n",
              "    .colab-df-convert {\n",
              "      background-color: #E8F0FE;\n",
              "      border: none;\n",
              "      border-radius: 50%;\n",
              "      cursor: pointer;\n",
              "      display: none;\n",
              "      fill: #1967D2;\n",
              "      height: 32px;\n",
              "      padding: 0 0 0 0;\n",
              "      width: 32px;\n",
              "    }\n",
              "\n",
              "    .colab-df-convert:hover {\n",
              "      background-color: #E2EBFA;\n",
              "      box-shadow: 0px 1px 2px rgba(60, 64, 67, 0.3), 0px 1px 3px 1px rgba(60, 64, 67, 0.15);\n",
              "      fill: #174EA6;\n",
              "    }\n",
              "\n",
              "    [theme=dark] .colab-df-convert {\n",
              "      background-color: #3B4455;\n",
              "      fill: #D2E3FC;\n",
              "    }\n",
              "\n",
              "    [theme=dark] .colab-df-convert:hover {\n",
              "      background-color: #434B5C;\n",
              "      box-shadow: 0px 1px 3px 1px rgba(0, 0, 0, 0.15);\n",
              "      filter: drop-shadow(0px 1px 2px rgba(0, 0, 0, 0.3));\n",
              "      fill: #FFFFFF;\n",
              "    }\n",
              "  </style>\n",
              "\n",
              "      <script>\n",
              "        const buttonEl =\n",
              "          document.querySelector('#df-931ab90b-e346-4de0-9597-9c70167187fd button.colab-df-convert');\n",
              "        buttonEl.style.display =\n",
              "          google.colab.kernel.accessAllowed ? 'block' : 'none';\n",
              "\n",
              "        async function convertToInteractive(key) {\n",
              "          const element = document.querySelector('#df-931ab90b-e346-4de0-9597-9c70167187fd');\n",
              "          const dataTable =\n",
              "            await google.colab.kernel.invokeFunction('convertToInteractive',\n",
              "                                                     [key], {});\n",
              "          if (!dataTable) return;\n",
              "\n",
              "          const docLinkHtml = 'Like what you see? Visit the ' +\n",
              "            '<a target=\"_blank\" href=https://colab.research.google.com/notebooks/data_table.ipynb>data table notebook</a>'\n",
              "            + ' to learn more about interactive tables.';\n",
              "          element.innerHTML = '';\n",
              "          dataTable['output_type'] = 'display_data';\n",
              "          await google.colab.output.renderOutput(dataTable, element);\n",
              "          const docLink = document.createElement('div');\n",
              "          docLink.innerHTML = docLinkHtml;\n",
              "          element.appendChild(docLink);\n",
              "        }\n",
              "      </script>\n",
              "    </div>\n",
              "  </div>\n",
              "  "
            ]
          },
          "metadata": {},
          "execution_count": 18
        }
      ]
    },
    {
      "cell_type": "code",
      "source": [
        "# Convert DataFrame into excel file\n",
        "df.to_excel('assignment-1-results.xlsx', index = False)"
      ],
      "metadata": {
        "id": "HpOli1R5Czfb"
      },
      "execution_count": 14,
      "outputs": []
    },
    {
      "cell_type": "markdown",
      "source": [
        "###2. Write a program that takes input a phrase, a webpage and a number, n; and then outputs all the webpages that match the phrase (exact phrase match), are within ‘n’ distance from the input webpage. The order in which output is displayed should be according to cosine similarity between the initial phrase and the webpage content. The output is should be stored in excel format by the program. [10]"
      ],
      "metadata": {
        "id": "LJUrEa837_Ws"
      }
    },
    {
      "cell_type": "code",
      "source": [
        "# Import all necessary libraries\n",
        "from urllib.request import urlopen, Request\n",
        "from bs4 import BeautifulSoup\n",
        "import re\n",
        "import pandas as pd\n",
        "import numpy as numpy\n",
        "from nltk.corpus import stopwords\n",
        "from nltk.tokenize import word_tokenize\n",
        "import nltk"
      ],
      "metadata": {
        "id": "5unToEnYO3lu"
      },
      "execution_count": 1,
      "outputs": []
    },
    {
      "cell_type": "code",
      "source": [
        "nltk.download(['punkt', 'stopwords'])"
      ],
      "metadata": {
        "colab": {
          "base_uri": "https://localhost:8080/"
        },
        "id": "_wmirRCKgQoj",
        "outputId": "c109edf7-82cd-4369-fdc5-152c3e803e24"
      },
      "execution_count": 2,
      "outputs": [
        {
          "output_type": "stream",
          "name": "stdout",
          "text": [
            "[nltk_data] Downloading package punkt to /root/nltk_data...\n",
            "[nltk_data]   Unzipping tokenizers/punkt.zip.\n",
            "[nltk_data] Downloading package stopwords to /root/nltk_data...\n",
            "[nltk_data]   Unzipping corpora/stopwords.zip.\n"
          ]
        },
        {
          "output_type": "execute_result",
          "data": {
            "text/plain": [
              "True"
            ]
          },
          "metadata": {},
          "execution_count": 2
        }
      ]
    },
    {
      "cell_type": "code",
      "source": [
        "# Function to get cosine similarity between a given phrase\n",
        "# and the contents of a webpage\n",
        "def get_cosine_similarity(phrase, url):\n",
        "  X = phrase.lower()\n",
        "  Y = ''\n",
        "  try:\n",
        "    html = urlopen(Request(url, headers={'User-Agent':'Mozilla'}))\n",
        "    bs = BeautifulSoup(html, 'html.parser')\n",
        "\n",
        "    # Remove script and style tags\n",
        "    for data in bs(['style', 'script']):\n",
        "      data.decompose()\n",
        "\n",
        "    text = ' '.join(bs.stripped_strings).lower()\n",
        "    Y = text\n",
        "  except:\n",
        "    pass\n",
        "  \n",
        "  # Tokenization\n",
        "  X_tok = word_tokenize(X)\n",
        "  Y_tok = word_tokenize(Y)\n",
        "\n",
        "  # Clean the list of tokens\n",
        "  Y_tok  = [re.sub(r'[^a-zA-Z0-9]','',string) for string in Y_tok]\n",
        "  Y_tok = ' '.join(Y_tok).split()\n",
        "             \n",
        "  # print('X tokenized list = ', X_tok)\n",
        "  # print('Y tokenized list = ', Y_tok)\n",
        "\n",
        "  # Remove stopwords from the sentences\n",
        "  sw = stopwords.words('english')\n",
        "  l1 = []\n",
        "  l2 = []\n",
        "  X_set = {word for word in X_tok if not word in sw} \n",
        "  Y_set = {word for word in Y_tok if not word in sw}\n",
        "\n",
        "  # Form a set containing keywords of both strings\n",
        "  rvector = X_set.union(Y_set)\n",
        "\n",
        "  for word in rvector:\n",
        "    if word in X_set:\n",
        "      l1.append(1)\n",
        "    else:\n",
        "      l1.append(0)\n",
        "\n",
        "    if word in Y_set:\n",
        "      l2.append(1)\n",
        "    else:\n",
        "      l2.append(0)\n",
        "\n",
        "  dot_product = 0\n",
        "\n",
        "  # Cosine similarity formula\n",
        "  for i in range(len(rvector)):\n",
        "    dot_product += l1[i]*l2[i]\n",
        "  \n",
        "  cosine_similarity = dot_product / float((sum(l1)*sum(l2))**0.5)\n",
        "\n",
        "  return cosine_similarity"
      ],
      "metadata": {
        "id": "m1ADF91H8JOr"
      },
      "execution_count": 3,
      "outputs": []
    },
    {
      "cell_type": "code",
      "source": [
        "def phrase_match(phrase, url):\n",
        "  matched = False\n",
        "  try:\n",
        "    html = urlopen(Request(url, headers={'User-Agent':'Mozilla'}))\n",
        "    bs = BeautifulSoup(html, 'html.parser')\n",
        "    # Remove script and style tags\n",
        "    for data in bs(['style', 'script']):\n",
        "      data.decompose()\n",
        "\n",
        "    text = ''.join(bs.stripped_strings) \n",
        "\n",
        "    if text.find(phrase) >= 0:\n",
        "      matched = True\n",
        "  except:\n",
        "    pass\n",
        "\n",
        "  return matched"
      ],
      "metadata": {
        "id": "mUshl5feKIcR"
      },
      "execution_count": 4,
      "outputs": []
    },
    {
      "cell_type": "code",
      "source": [
        "def create_cosine_similarity_df(initial_url, level):\n",
        "  message = 'Cosine similarity df created successfully!'\n",
        "  # Perform web crawling till the given number of 'n' levels is reached\n",
        "  df1 = web_crawl(initial_url = initial_url, level = level)\n",
        "\n",
        "  # Calculate phrase match value for all webpages in the given 'n' levels\n",
        "  df1['phrase_match'] = df1.apply(lambda row: phrase_match(phrase = phrase, url = row['url']), axis = 1)\n",
        "  df1 = df1[df1['phrase_match'] == True]\n",
        "\n",
        "  # Modify the dataframe to drop unnecessary columns and\n",
        "  # Insert a column for cosine similarity\n",
        "  df1 = df1[['level', 'url']]\n",
        "  df1['cosine_similarity'] = 0\n",
        "\n",
        "  # If zero webpages match with the given phrase\n",
        "  if len(df1) == 0:\n",
        "    return df1, 'Zero webpages matched with the given phrase.'\n",
        "  \n",
        "  # Calculate cosine similarity for the phrase matched webpages\n",
        "  df1['cosine_similarity'] = df1.apply(lambda row: get_cosine_similarity(phrase = phrase, url = row['url']), axis = 1)\n",
        "\n",
        "  # Sort the dataframe by cosine similarity value\n",
        "  df1.sort_values(by = ['cosine_similarity'], inplace = True, ascending = False)\n",
        "\n",
        "  # Reset index of the sorted DataFrame\n",
        "  df1 = df1.reset_index(drop=True)\n",
        "\n",
        "  return df1, message"
      ],
      "metadata": {
        "id": "CMOdfbMF-aA2"
      },
      "execution_count": 5,
      "outputs": []
    },
    {
      "cell_type": "code",
      "source": [
        "url_ = input_url('Enter a url (E.g. https://www.geeksforgeeks.org/): ')\n",
        "phrase = input('Enter phrase: ')\n",
        "n = int(input ('Choose a number (above 0): '))"
      ],
      "metadata": {
        "colab": {
          "base_uri": "https://localhost:8080/"
        },
        "id": "vtFvitCZdqse",
        "outputId": "d0b8d1ab-3774-4a20-8d2a-0817c3a6ee4e"
      },
      "execution_count": 24,
      "outputs": [
        {
          "name": "stdout",
          "output_type": "stream",
          "text": [
            "Enter a url (E.g. https://www.geeksforgeeks.org/): https://www.w3schools.com/\n",
            "Enter phrase: Programming Languages\n",
            "Choose a number (above 0): 4\n"
          ]
        }
      ]
    },
    {
      "cell_type": "code",
      "source": [
        "cos_sim_df, message = create_cosine_similarity_df(initial_url = url_, level = n)"
      ],
      "metadata": {
        "id": "4i7fD93f5BkM"
      },
      "execution_count": 25,
      "outputs": []
    },
    {
      "cell_type": "code",
      "source": [
        "print(message)"
      ],
      "metadata": {
        "colab": {
          "base_uri": "https://localhost:8080/"
        },
        "id": "8k7swEsIYnz2",
        "outputId": "ffc283df-0890-4588-a3a0-c30112754e22"
      },
      "execution_count": 22,
      "outputs": [
        {
          "output_type": "stream",
          "name": "stdout",
          "text": [
            "Cosine similarity df created successfully!\n"
          ]
        }
      ]
    },
    {
      "cell_type": "code",
      "source": [
        "cos_sim_df"
      ],
      "metadata": {
        "colab": {
          "base_uri": "https://localhost:8080/",
          "height": 49
        },
        "id": "XH3u8iPtBFgN",
        "outputId": "771b8e24-e57b-413e-e3bb-e5dfd3f9aee1"
      },
      "execution_count": 26,
      "outputs": [
        {
          "output_type": "execute_result",
          "data": {
            "text/plain": [
              "Empty DataFrame\n",
              "Columns: [level, url, cosine_similarity]\n",
              "Index: []"
            ],
            "text/html": [
              "\n",
              "  <div id=\"df-20590383-fe61-4929-aa7c-3715e5260605\">\n",
              "    <div class=\"colab-df-container\">\n",
              "      <div>\n",
              "<style scoped>\n",
              "    .dataframe tbody tr th:only-of-type {\n",
              "        vertical-align: middle;\n",
              "    }\n",
              "\n",
              "    .dataframe tbody tr th {\n",
              "        vertical-align: top;\n",
              "    }\n",
              "\n",
              "    .dataframe thead th {\n",
              "        text-align: right;\n",
              "    }\n",
              "</style>\n",
              "<table border=\"1\" class=\"dataframe\">\n",
              "  <thead>\n",
              "    <tr style=\"text-align: right;\">\n",
              "      <th></th>\n",
              "      <th>level</th>\n",
              "      <th>url</th>\n",
              "      <th>cosine_similarity</th>\n",
              "    </tr>\n",
              "  </thead>\n",
              "  <tbody>\n",
              "  </tbody>\n",
              "</table>\n",
              "</div>\n",
              "      <button class=\"colab-df-convert\" onclick=\"convertToInteractive('df-20590383-fe61-4929-aa7c-3715e5260605')\"\n",
              "              title=\"Convert this dataframe to an interactive table.\"\n",
              "              style=\"display:none;\">\n",
              "        \n",
              "  <svg xmlns=\"http://www.w3.org/2000/svg\" height=\"24px\"viewBox=\"0 0 24 24\"\n",
              "       width=\"24px\">\n",
              "    <path d=\"M0 0h24v24H0V0z\" fill=\"none\"/>\n",
              "    <path d=\"M18.56 5.44l.94 2.06.94-2.06 2.06-.94-2.06-.94-.94-2.06-.94 2.06-2.06.94zm-11 1L8.5 8.5l.94-2.06 2.06-.94-2.06-.94L8.5 2.5l-.94 2.06-2.06.94zm10 10l.94 2.06.94-2.06 2.06-.94-2.06-.94-.94-2.06-.94 2.06-2.06.94z\"/><path d=\"M17.41 7.96l-1.37-1.37c-.4-.4-.92-.59-1.43-.59-.52 0-1.04.2-1.43.59L10.3 9.45l-7.72 7.72c-.78.78-.78 2.05 0 2.83L4 21.41c.39.39.9.59 1.41.59.51 0 1.02-.2 1.41-.59l7.78-7.78 2.81-2.81c.8-.78.8-2.07 0-2.86zM5.41 20L4 18.59l7.72-7.72 1.47 1.35L5.41 20z\"/>\n",
              "  </svg>\n",
              "      </button>\n",
              "      \n",
              "  <style>\n",
              "    .colab-df-container {\n",
              "      display:flex;\n",
              "      flex-wrap:wrap;\n",
              "      gap: 12px;\n",
              "    }\n",
              "\n",
              "    .colab-df-convert {\n",
              "      background-color: #E8F0FE;\n",
              "      border: none;\n",
              "      border-radius: 50%;\n",
              "      cursor: pointer;\n",
              "      display: none;\n",
              "      fill: #1967D2;\n",
              "      height: 32px;\n",
              "      padding: 0 0 0 0;\n",
              "      width: 32px;\n",
              "    }\n",
              "\n",
              "    .colab-df-convert:hover {\n",
              "      background-color: #E2EBFA;\n",
              "      box-shadow: 0px 1px 2px rgba(60, 64, 67, 0.3), 0px 1px 3px 1px rgba(60, 64, 67, 0.15);\n",
              "      fill: #174EA6;\n",
              "    }\n",
              "\n",
              "    [theme=dark] .colab-df-convert {\n",
              "      background-color: #3B4455;\n",
              "      fill: #D2E3FC;\n",
              "    }\n",
              "\n",
              "    [theme=dark] .colab-df-convert:hover {\n",
              "      background-color: #434B5C;\n",
              "      box-shadow: 0px 1px 3px 1px rgba(0, 0, 0, 0.15);\n",
              "      filter: drop-shadow(0px 1px 2px rgba(0, 0, 0, 0.3));\n",
              "      fill: #FFFFFF;\n",
              "    }\n",
              "  </style>\n",
              "\n",
              "      <script>\n",
              "        const buttonEl =\n",
              "          document.querySelector('#df-20590383-fe61-4929-aa7c-3715e5260605 button.colab-df-convert');\n",
              "        buttonEl.style.display =\n",
              "          google.colab.kernel.accessAllowed ? 'block' : 'none';\n",
              "\n",
              "        async function convertToInteractive(key) {\n",
              "          const element = document.querySelector('#df-20590383-fe61-4929-aa7c-3715e5260605');\n",
              "          const dataTable =\n",
              "            await google.colab.kernel.invokeFunction('convertToInteractive',\n",
              "                                                     [key], {});\n",
              "          if (!dataTable) return;\n",
              "\n",
              "          const docLinkHtml = 'Like what you see? Visit the ' +\n",
              "            '<a target=\"_blank\" href=https://colab.research.google.com/notebooks/data_table.ipynb>data table notebook</a>'\n",
              "            + ' to learn more about interactive tables.';\n",
              "          element.innerHTML = '';\n",
              "          dataTable['output_type'] = 'display_data';\n",
              "          await google.colab.output.renderOutput(dataTable, element);\n",
              "          const docLink = document.createElement('div');\n",
              "          docLink.innerHTML = docLinkHtml;\n",
              "          element.appendChild(docLink);\n",
              "        }\n",
              "      </script>\n",
              "    </div>\n",
              "  </div>\n",
              "  "
            ]
          },
          "metadata": {},
          "execution_count": 26
        }
      ]
    },
    {
      "cell_type": "code",
      "source": [
        "# Convert DataFrame into excel file\n",
        "cos_sim_df.to_excel('assignment-2-results.xlsx', index = False)"
      ],
      "metadata": {
        "id": "AG9A6WpjZvkf"
      },
      "execution_count": null,
      "outputs": []
    }
  ]
}